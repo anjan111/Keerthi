{
 "cells": [
  {
   "cell_type": "code",
   "execution_count": 3,
   "metadata": {},
   "outputs": [
    {
     "name": "stdout",
     "output_type": "stream",
     "text": [
      "enter some int data : 789\n",
      "data :  789\n",
      "<type 'int'>\n",
      "memory loc :  63087184\n"
     ]
    }
   ],
   "source": [
    "# input() --->> read the data from keyboard\n",
    "# print  ---->> dispaly the data on monitor\n",
    "# type() --->> to know the datatype\n",
    "# id() ----->> to know the memory loc \n",
    "#wap read int and display data, type, memory\n",
    "var = input(\"enter some int data : \")\n",
    "print \"data : \",var\n",
    "print type(var)\n",
    "print \"memory loc : \" ,id(var)"
   ]
  },
  {
   "cell_type": "code",
   "execution_count": 6,
   "metadata": {},
   "outputs": [
    {
     "name": "stdout",
     "output_type": "stream",
     "text": [
      "enter some float data : 45.24\n",
      "data :  45.24\n",
      "<type 'float'>\n",
      "memory loc :  65388720\n"
     ]
    }
   ],
   "source": [
    "#wap read float and display data, type, memory\n",
    "var = input(\"enter some float data : \")\n",
    "print \"data : \",var\n",
    "print type(var)\n",
    "print \"memory loc : \" ,id(var)"
   ]
  },
  {
   "cell_type": "code",
   "execution_count": 7,
   "metadata": {},
   "outputs": [
    {
     "name": "stdout",
     "output_type": "stream",
     "text": [
      "enter some complex data : 4+4j\n",
      "data :  (4+4j)\n",
      "<type 'complex'>\n",
      "memory loc :  65902672\n"
     ]
    }
   ],
   "source": [
    "#wap read complex and display data, type, memory\n",
    "var = input(\"enter some complex data : \")\n",
    "print \"data : \",var\n",
    "print type(var)\n",
    "print \"memory loc : \" ,id(var)"
   ]
  },
  {
   "cell_type": "code",
   "execution_count": 8,
   "metadata": {},
   "outputs": [
    {
     "name": "stdout",
     "output_type": "stream",
     "text": [
      "enter some bool data : True\n",
      "data :  True\n",
      "<type 'bool'>\n",
      "memory loc :  1569963752\n"
     ]
    }
   ],
   "source": [
    "#wap read bool and display data, type, memory\n",
    "var = input(\"enter some bool data : \")\n",
    "print \"data : \",var\n",
    "print type(var)\n",
    "print \"memory loc : \" ,id(var)"
   ]
  },
  {
   "cell_type": "code",
   "execution_count": 9,
   "metadata": {},
   "outputs": [
    {
     "name": "stdout",
     "output_type": "stream",
     "text": [
      "enter some int data : None\n",
      "data :  None\n",
      "<type 'NoneType'>\n",
      "memory loc :  1569918072\n"
     ]
    }
   ],
   "source": [
    "#wap read None and display data, type, memory\n",
    "var = input(\"enter some int data : \")\n",
    "print \"data : \",var\n",
    "print type(var)\n",
    "print \"memory loc : \" ,id(var)"
   ]
  },
  {
   "cell_type": "code",
   "execution_count": null,
   "metadata": {},
   "outputs": [],
   "source": [
    "#wap read  str data and display data, type, memory\n",
    "#wap read list and display data, type, memory\n",
    "#wap read tuple and display data, type, memory\n",
    "#wap read set and display data, type, memory\n",
    "#wap read dict  and display data, type, memory"
   ]
  },
  {
   "cell_type": "code",
   "execution_count": 1,
   "metadata": {},
   "outputs": [
    {
     "name": "stdout",
     "output_type": "stream",
     "text": [
      "enter set : {1,2,3}\n",
      "set([1, 2, 3])\n",
      "<type 'set'>\n"
     ]
    }
   ],
   "source": [
    "var = input(\"enter set : \")\n",
    "print var\n",
    "print type(var)"
   ]
  },
  {
   "cell_type": "code",
   "execution_count": 6,
   "metadata": {},
   "outputs": [
    {
     "name": "stdout",
     "output_type": "stream",
     "text": [
      "enter set : set([1,2,4])\n",
      "set([1, 2, 4])\n",
      "<type 'set'>\n"
     ]
    }
   ],
   "source": [
    "var = input(\"enter set : \")\n",
    "print var\n",
    "print type(var)"
   ]
  },
  {
   "cell_type": "code",
   "execution_count": 3,
   "metadata": {},
   "outputs": [
    {
     "name": "stdout",
     "output_type": "stream",
     "text": [
      "enter set : ([1,2,3])\n",
      "[1, 2, 3]\n",
      "<type 'list'>\n"
     ]
    }
   ],
   "source": [
    "var = input(\"enter set : \")\n",
    "print var\n",
    "print type(var)"
   ]
  },
  {
   "cell_type": "code",
   "execution_count": null,
   "metadata": {},
   "outputs": [],
   "source": []
  }
 ],
 "metadata": {
  "kernelspec": {
   "display_name": "Python 2",
   "language": "python",
   "name": "python2"
  },
  "language_info": {
   "codemirror_mode": {
    "name": "ipython",
    "version": 2
   },
   "file_extension": ".py",
   "mimetype": "text/x-python",
   "name": "python",
   "nbconvert_exporter": "python",
   "pygments_lexer": "ipython2",
   "version": "2.7.16"
  }
 },
 "nbformat": 4,
 "nbformat_minor": 2
}
