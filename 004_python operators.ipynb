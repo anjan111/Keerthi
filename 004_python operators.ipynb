{
 "cells": [
  {
   "cell_type": "markdown",
   "metadata": {},
   "source": [
    "# operator\n",
    "\n",
    "--->> which are used for to do the operation on operands\n",
    "\n",
    "# operands \n",
    "\n",
    "--->> The data with in the operations \n",
    "\n",
    "# operation \n",
    "\n",
    "--->> The process of the solving the equtions \n",
    "\n",
    "#### The operators are classified based on 2 ways \n",
    "\n",
    "1. Based on Operands \n",
    "\n",
    "2. Based on operations"
   ]
  },
  {
   "cell_type": "code",
   "execution_count": 1,
   "metadata": {},
   "outputs": [
    {
     "name": "stdout",
     "output_type": "stream",
     "text": [
      "unary operators\n",
      "123\n",
      "-34\n",
      "False\n",
      "-46\n"
     ]
    }
   ],
   "source": [
    "# Based on operands \n",
    "'''\n",
    "-->> While operation the operator is needed some no of operands \n",
    "-->> Based on the no of operands with in the operations\n",
    "\n",
    "1. Unary Operator\n",
    "\n",
    "2. Binary Operator\n",
    "'''\n",
    "print \"unary operators\"\n",
    "print +123 #unary plus\n",
    "print - 34 # unary minus\n",
    "print not 34# logical not\n",
    "print ~45 # bitwise not "
   ]
  },
  {
   "cell_type": "code",
   "execution_count": 2,
   "metadata": {},
   "outputs": [
    {
     "name": "stdout",
     "output_type": "stream",
     "text": [
      "binary operator\n",
      "33\n",
      "True\n"
     ]
    }
   ],
   "source": [
    "# binary operator\n",
    "print \"binary operator\"\n",
    "a = 10 # assignment\n",
    "print a+23\n",
    "print 10 <  45"
   ]
  },
  {
   "cell_type": "code",
   "execution_count": 3,
   "metadata": {},
   "outputs": [
    {
     "name": "stdout",
     "output_type": "stream",
     "text": [
      "44\n",
      "-22\n",
      "36\n",
      "5\n",
      "2\n"
     ]
    }
   ],
   "source": [
    "#Based on operations\n",
    "'''\n",
    "1. arithmetic Operators\n",
    "2. relational operators\n",
    "3. Logical operators\n",
    "4. assignment operators\n",
    "5. special operator\n",
    "6. Bitwise operators\n",
    "'''\n",
    "# arithmetic operators\n",
    "print  10 + 34\n",
    "print 23 -45\n",
    "print 12*3\n",
    "print 17 /3\n",
    "print 17 % 3"
   ]
  },
  {
   "cell_type": "code",
   "execution_count": 4,
   "metadata": {},
   "outputs": [
    {
     "name": "stdout",
     "output_type": "stream",
     "text": [
      "1728\n",
      "196\n",
      "100000\n"
     ]
    }
   ],
   "source": [
    "print  12 **3\n",
    "print 14 **2\n",
    "print 10 **5"
   ]
  },
  {
   "cell_type": "code",
   "execution_count": 6,
   "metadata": {},
   "outputs": [
    {
     "name": "stdout",
     "output_type": "stream",
     "text": [
      "5\n",
      "5\n"
     ]
    }
   ],
   "source": [
    "print 17 // 3\n",
    "print 17 / 3"
   ]
  },
  {
   "cell_type": "code",
   "execution_count": 7,
   "metadata": {},
   "outputs": [
    {
     "name": "stdout",
     "output_type": "stream",
     "text": [
      "5.0\n",
      "5.66666666667\n"
     ]
    }
   ],
   "source": [
    "print 17.0 // 3\n",
    "print 17.0 / 3"
   ]
  },
  {
   "cell_type": "code",
   "execution_count": 9,
   "metadata": {},
   "outputs": [
    {
     "name": "stdout",
     "output_type": "stream",
     "text": [
      "enter rad in meters : 44\n",
      "area :  6084.57142857  sq . m\n"
     ]
    }
   ],
   "source": [
    "# wap find the area of circle \n",
    "rad = input(\"enter rad in meters : \")\n",
    "pi  = 22.0 / 7\n",
    "area = pi * (rad ** 2)\n",
    "print \"area : \",area,\" sq . m\""
   ]
  },
  {
   "cell_type": "code",
   "execution_count": 10,
   "metadata": {},
   "outputs": [
    {
     "name": "stdout",
     "output_type": "stream",
     "text": [
      "True\n",
      "True\n",
      "True\n",
      "True\n",
      "True\n",
      "True\n",
      "True\n",
      "True\n"
     ]
    }
   ],
   "source": [
    "#relational operators\n",
    "print  10 < 20 # True\n",
    "print 20 > 10 # True\n",
    "print 10 == 10 # True\n",
    "print 10 != 20 #True\n",
    "print  10 <= 20 # True\n",
    "print 10 <= 10 # True\n",
    "print 20 >= 10 # True\n",
    "print 20 >= 20 # True"
   ]
  },
  {
   "cell_type": "code",
   "execution_count": 11,
   "metadata": {},
   "outputs": [
    {
     "name": "stdout",
     "output_type": "stream",
     "text": [
      "10\n",
      "10\n",
      "112\n"
     ]
    }
   ],
   "source": [
    "# assignment operator  = \n",
    "a = 10 # constant to variable\n",
    "b = a  # variable to variable\n",
    "c = a *b + 12# expression to variable\n",
    "print a\n",
    "print b\n",
    "print c"
   ]
  },
  {
   "cell_type": "code",
   "execution_count": 12,
   "metadata": {},
   "outputs": [
    {
     "name": "stdout",
     "output_type": "stream",
     "text": [
      "12\n",
      "23\n",
      "35\n",
      "23\n"
     ]
    }
   ],
   "source": [
    "# compound assignment \n",
    "a = 12\n",
    "b = 23\n",
    "print a\n",
    "print b\n",
    "a = a +b # addition operation then assign\n",
    "print a\n",
    "print b"
   ]
  },
  {
   "cell_type": "code",
   "execution_count": 13,
   "metadata": {},
   "outputs": [
    {
     "name": "stdout",
     "output_type": "stream",
     "text": [
      "12\n",
      "23\n",
      "35\n",
      "23\n"
     ]
    }
   ],
   "source": [
    "# compound assignment \n",
    "a = 12\n",
    "b = 23\n",
    "print a\n",
    "print b\n",
    "a +=  b  # a = a +b # addition operation then assign\n",
    "print a\n",
    "print b"
   ]
  },
  {
   "cell_type": "code",
   "execution_count": 14,
   "metadata": {},
   "outputs": [
    {
     "name": "stdout",
     "output_type": "stream",
     "text": [
      "12\n",
      "23\n",
      "-11\n",
      "23\n"
     ]
    }
   ],
   "source": [
    "# compound assignment \n",
    "a = 12\n",
    "b = 23\n",
    "print a\n",
    "print b\n",
    "a -= b   # a = a -b # subtraction operation then assign\n",
    "print a\n",
    "print b"
   ]
  },
  {
   "cell_type": "code",
   "execution_count": null,
   "metadata": {},
   "outputs": [],
   "source": [
    "# do the remain all arithmetic with assignment operator"
   ]
  },
  {
   "cell_type": "code",
   "execution_count": 2,
   "metadata": {},
   "outputs": [
    {
     "name": "stdout",
     "output_type": "stream",
     "text": [
      "True\n",
      "False\n",
      "False\n",
      "True\n"
     ]
    }
   ],
   "source": [
    "#special Operators\n",
    "'''\n",
    "-->> Membership Operator\n",
    "\n",
    "        -->> Which is used for to chicking the one elements is available with in the group of elememts\n",
    "        \n",
    "        1. in\n",
    "        \n",
    "                True  --->> avaiable\n",
    "                \n",
    "                False --->> not available \n",
    "        \n",
    "        2. not in\n",
    "        \n",
    "                True  --->> not avaiable\n",
    "                \n",
    "                False --->>  available \n",
    "        \n",
    "\n",
    "-->> Identity operator\n",
    "\n",
    "    --->> to check the both operands  memory loc are same or not\n",
    "    \n",
    "    1. is \n",
    "    \n",
    "            True -->> same\n",
    "            \n",
    "            False-->> different\n",
    "    \n",
    "    \n",
    "    2. is not\n",
    "    \n",
    "            False -->> same\n",
    "            \n",
    "            True  -->> different\n",
    "\n",
    "\n",
    "'''\n",
    "\n",
    "seq  = [78,34,23,90]\n",
    "var = 34\n",
    "a  = 100\n",
    "print var in seq\n",
    "print a in seq\n",
    "\n",
    "print var not in seq\n",
    "print a not in seq\n"
   ]
  },
  {
   "cell_type": "code",
   "execution_count": 4,
   "metadata": {},
   "outputs": [
    {
     "name": "stdout",
     "output_type": "stream",
     "text": [
      "83935304\n",
      "78770696\n",
      "False\n",
      "True\n"
     ]
    }
   ],
   "source": [
    "a = [1,2,3,4]\n",
    "b = [1,2,3,4]\n",
    "print id(a)\n",
    "print id(b)\n",
    "print a is b\n",
    "print a is not b"
   ]
  },
  {
   "cell_type": "code",
   "execution_count": 5,
   "metadata": {},
   "outputs": [
    {
     "name": "stdout",
     "output_type": "stream",
     "text": [
      "78620296\n",
      "78620296\n",
      "True\n",
      "False\n"
     ]
    }
   ],
   "source": [
    "a = [1,2,3,4]\n",
    "b = a\n",
    "print id(a)\n",
    "print id(b)\n",
    "print a is b\n",
    "print a is not b"
   ]
  },
  {
   "cell_type": "code",
   "execution_count": 6,
   "metadata": {},
   "outputs": [
    {
     "name": "stdout",
     "output_type": "stream",
     "text": [
      "50361200\n",
      "50361200\n"
     ]
    }
   ],
   "source": [
    "a = 12\n",
    "b =12\n",
    "print id(a)\n",
    "print id(b)"
   ]
  },
  {
   "cell_type": "code",
   "execution_count": 7,
   "metadata": {},
   "outputs": [
    {
     "name": "stdout",
     "output_type": "stream",
     "text": [
      "77746688\n",
      "77746664\n"
     ]
    }
   ],
   "source": [
    "a = 120.004\n",
    "b =120.004\n",
    "print id(a)\n",
    "print id(b)"
   ]
  },
  {
   "cell_type": "code",
   "execution_count": 8,
   "metadata": {},
   "outputs": [
    {
     "name": "stdout",
     "output_type": "stream",
     "text": [
      "56\n",
      "0\n",
      "[]\n",
      "45\n"
     ]
    }
   ],
   "source": [
    "# Logical operator \n",
    "'''\n",
    "--->> Based on the logic \n",
    "\n",
    "1. Logical AND\n",
    "\n",
    "2. Logical OR\n",
    "\n",
    "3. Logical NOT\n",
    "\n",
    "'''\n",
    "# logical AND --->> and \n",
    "\n",
    "'''\n",
    "ip1  and  ip2  --->  res( ip1/ip2)\n",
    "\n",
    "res --->> ip1 , when ip1 is False case\n",
    "\n",
    "res --->> ip2 , when ip1 is True case\n",
    "'''\n",
    "print 34 and 56\n",
    "print 0 and 56\n",
    "print 90 and []\n",
    "print 90 and 45"
   ]
  },
  {
   "cell_type": "code",
   "execution_count": 9,
   "metadata": {},
   "outputs": [
    {
     "name": "stdout",
     "output_type": "stream",
     "text": [
      "34\n",
      "56\n",
      "90\n",
      "90\n"
     ]
    }
   ],
   "source": [
    "# logical OR --->> or\n",
    "\n",
    "'''\n",
    "ip1  or ip2  --->  res( ip1/ip2)\n",
    "\n",
    "res --->> ip1 , when ip1 is True case\n",
    "\n",
    "res --->> ip2 , when ip1 is False case\n",
    "'''\n",
    "print 34 or 56\n",
    "print 0 or 56\n",
    "print 90 or []\n",
    "print 90 or 45"
   ]
  },
  {
   "cell_type": "code",
   "execution_count": 10,
   "metadata": {},
   "outputs": [
    {
     "name": "stdout",
     "output_type": "stream",
     "text": [
      "False\n",
      "True\n"
     ]
    }
   ],
   "source": [
    "# logical not \n",
    "'''\n",
    "not ip --->> True/ False\n",
    "\n",
    "True --->> ip1 is False case\n",
    "False --->> ip1 is True case\n",
    "'''\n",
    "print not 45 # False\n",
    "print not [] # True"
   ]
  },
  {
   "cell_type": "code",
   "execution_count": null,
   "metadata": {},
   "outputs": [],
   "source": []
  },
  {
   "cell_type": "code",
   "execution_count": null,
   "metadata": {},
   "outputs": [],
   "source": []
  },
  {
   "cell_type": "code",
   "execution_count": null,
   "metadata": {},
   "outputs": [],
   "source": []
  }
 ],
 "metadata": {
  "kernelspec": {
   "display_name": "Python 2",
   "language": "python",
   "name": "python2"
  },
  "language_info": {
   "codemirror_mode": {
    "name": "ipython",
    "version": 2
   },
   "file_extension": ".py",
   "mimetype": "text/x-python",
   "name": "python",
   "nbconvert_exporter": "python",
   "pygments_lexer": "ipython2",
   "version": "2.7.16"
  }
 },
 "nbformat": 4,
 "nbformat_minor": 2
}
