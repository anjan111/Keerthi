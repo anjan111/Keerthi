{
 "cells": [
  {
   "cell_type": "code",
   "execution_count": 3,
   "metadata": {},
   "outputs": [
    {
     "name": "stdout",
     "output_type": "stream",
     "text": [
      "enter rad of circle in meters : 8\n",
      "area :  201.142857143  sq . m\n",
      "out of if block\n"
     ]
    }
   ],
   "source": [
    "###  statement \n",
    "'''\n",
    "--->> an instruction which can be executable with in program\n",
    "'''\n",
    "#### program\n",
    "'''\n",
    "--->> Set of instructions to do any one specific task\n",
    "'''\n",
    "#### how the program can execute\n",
    "'''\n",
    "--->> line by line / statement by statement\n",
    "'''\n",
    "#### control statement \n",
    "'''\n",
    "--->> the flow of execution of the program can changes \n",
    "'''\n",
    "#### 1. conditional statement\n",
    "'''\n",
    "-->>> the statements executions can depends on condtion\n",
    "    1. simple if\n",
    "    2. if & else\n",
    "    3. elif ladder\n",
    "    4. nested if\n",
    "\n",
    "'''\n",
    "#### 2. Looping statements \n",
    "'''\n",
    "--->> The Task can repeat multiple times continuesly\n",
    "        1. while\n",
    "        2. for\n",
    "'''\n",
    "#### 3. control keywords \n",
    "'''\n",
    "--->>>  continue\n",
    "--->>>  break\n",
    "--->>>  pass\n",
    "'''\n",
    "\n",
    "#### 1. simple if\n",
    "'''\n",
    "if (condition):\n",
    "    Task\n",
    "    -----\n",
    "    ------\n",
    "out side of the if \n",
    "\n",
    "'''\n",
    "#### wap find the area of circle when radius is more than 1 meter\n",
    "rad = input(\"enter rad of circle in meters : \")\n",
    "if(rad > 1):\n",
    "    pi = 22.0/7\n",
    "    area = pi*(rad ** 2)\n",
    "    print \"area : \",area,\" sq . m\"\n",
    "print \"out of if block\"    "
   ]
  },
  {
   "cell_type": "code",
   "execution_count": 5,
   "metadata": {},
   "outputs": [
    {
     "name": "stdout",
     "output_type": "stream",
     "text": [
      "enter num : 6\n",
      "even number\n"
     ]
    }
   ],
   "source": [
    "# if and else\n",
    "'''\n",
    "if (condition ):\n",
    "    Task1\n",
    "    -----\n",
    "    -----\n",
    "else:\n",
    "    Task2\n",
    "    ----\n",
    "    -----\n",
    "\n",
    "'''\n",
    "# wap find the given number is even or odd\n",
    "num = input(\"enter num : \")\n",
    "if(num % 2 == 0):\n",
    "    print \"even number\"\n",
    "else:\n",
    "    print \"odd number\""
   ]
  },
  {
   "cell_type": "code",
   "execution_count": 8,
   "metadata": {},
   "outputs": [
    {
     "name": "stdout",
     "output_type": "stream",
     "text": [
      "enter your exp : -5\n",
      "please provide the proper exp\n"
     ]
    }
   ],
   "source": [
    "# elif ladder \n",
    "'''\n",
    "if( Cond ):\n",
    "    Task1\n",
    "elif(COnd):\n",
    "    Task2\n",
    "elif(cond):\n",
    "    Task3\n",
    "elif(cond):\n",
    "    Task4\n",
    "elif(cond):\n",
    "    Task5\n",
    "else:\n",
    "    Task\n",
    "\n",
    "'''\n",
    "# wap find the salary of employee based on his exp\n",
    "exp = input(\"enter your exp : \")\n",
    "if(exp >= 0 and  exp <2):\n",
    "    print \"Salary 3.2 lac PA\"\n",
    "elif(exp >=2 and exp <4):\n",
    "    print\"salary 4.5 lac PA\"\n",
    "elif(exp >=4 and exp < 6):\n",
    "    print\"salary 7 lac PA\"\n",
    "elif(exp >=6 and exp < 10):\n",
    "    print\"salary 12 lac PA\"\n",
    "elif(exp >=10 and exp < 16):\n",
    "    print\"salary 14 lac PA\"\n",
    "elif(exp >= 16):\n",
    "    print \"salary 25 lac PA\"\n",
    "else:\n",
    "    print\"please provide the proper exp\""
   ]
  },
  {
   "cell_type": "code",
   "execution_count": 9,
   "metadata": {},
   "outputs": [
    {
     "name": "stdout",
     "output_type": "stream",
     "text": [
      "enter a  : 78\n",
      "enter b : 45\n",
      "enter c : 56\n",
      "big  :  78\n"
     ]
    }
   ],
   "source": [
    "# nested if \n",
    "'''\n",
    "any conditional block can contains another condtional block\n",
    "'''\n",
    "#wap find the biggest number from 3 numbers \n",
    "a = input(\"enter a  : \")\n",
    "b = input(\"enter b : \")\n",
    "c = input(\"enter c : \")\n",
    "if(a < b):\n",
    "    big =b\n",
    "    if(b< c):\n",
    "        big =c\n",
    "else:\n",
    "    big =a\n",
    "    if(a < c):\n",
    "        big =c\n",
    "print \"big  : \",big"
   ]
  },
  {
   "cell_type": "code",
   "execution_count": 1,
   "metadata": {},
   "outputs": [
    {
     "name": "stdout",
     "output_type": "stream",
     "text": [
      "1\n",
      "2\n",
      "3\n",
      "4\n",
      "5\n",
      "6\n",
      "7\n",
      "8\n",
      "9\n",
      "10\n",
      "while condition\n",
      "while is over\n"
     ]
    }
   ],
   "source": [
    "# Looping statement\n",
    "'''\n",
    "while \n",
    "\n",
    "for \n",
    "'''\n",
    "# while ---->> task ---->> until the condition False\n",
    "'''\n",
    "while ( Condition ):\n",
    "    Task\n",
    "    ----\n",
    "    -----\n",
    "    ----\n",
    "else:\n",
    "    when the condition has failed\n",
    "'''\n",
    "# wap print 1 to 10\n",
    "i=1\n",
    "while( i <= 10):\n",
    "    print i\n",
    "    i = i + 1\n",
    "else:\n",
    "    print \"while condition\"\n",
    "print \"while is over\"    "
   ]
  },
  {
   "cell_type": "code",
   "execution_count": null,
   "metadata": {},
   "outputs": [],
   "source": [
    "# wap print the multiplication table for any number\n",
    "'''\n",
    "5\n",
    "5 * 1 = 5\n",
    "5 * 2 = 10\n",
    "----\n",
    "---\n",
    "5 * 10 = 50\n",
    "'''"
   ]
  },
  {
   "cell_type": "code",
   "execution_count": 9,
   "metadata": {},
   "outputs": [
    {
     "name": "stdout",
     "output_type": "stream",
     "text": [
      "enter a number : 4\n",
      "4 ! = 24\n"
     ]
    }
   ],
   "source": [
    "# wap find the factorial of a number \n",
    "# 5 --->> 120\n",
    "# 0 --->> 1\n",
    "# 1 --->> 1\n",
    "# -4 -->> please enter postive numbers\n",
    "# 2.3 -->> please enter int datatype only\n",
    "num = input(\"enter a number : \")\n",
    "if(isinstance(num,int)):\n",
    "    if(num >= 0):\n",
    "        fact = 1\n",
    "        i = 1\n",
    "        while(i <= num):\n",
    "            fact =  fact * i\n",
    "            i = i+1\n",
    "        else:\n",
    "            print num,\"! =\",fact\n",
    "    else:\n",
    "        print \"please enter positive number\"\n",
    "else:\n",
    "    print \"please enter int data\""
   ]
  },
  {
   "cell_type": "code",
   "execution_count": null,
   "metadata": {},
   "outputs": [],
   "source": [
    "# wap find the no of factors of a number\n",
    "# wap find the given number is prime number"
   ]
  },
  {
   "cell_type": "code",
   "execution_count": 10,
   "metadata": {},
   "outputs": [
    {
     "name": "stdout",
     "output_type": "stream",
     "text": [
      "Help on built-in function isinstance in module __builtin__:\n",
      "\n",
      "isinstance(...)\n",
      "    isinstance(object, class-or-type-or-tuple) -> bool\n",
      "    \n",
      "    Return whether an object is an instance of a class or of a subclass thereof.\n",
      "    With a type as second argument, return whether that is the object's type.\n",
      "    The form using a tuple, isinstance(x, (A, B, ...)), is a shortcut for\n",
      "    isinstance(x, A) or isinstance(x, B) or ... (etc.).\n",
      "\n"
     ]
    }
   ],
   "source": [
    "help(isinstance)"
   ]
  },
  {
   "cell_type": "code",
   "execution_count": 11,
   "metadata": {},
   "outputs": [
    {
     "name": "stdout",
     "output_type": "stream",
     "text": [
      "True\n"
     ]
    }
   ],
   "source": [
    "var =123\n",
    "print isinstance(var,int)"
   ]
  },
  {
   "cell_type": "code",
   "execution_count": 12,
   "metadata": {},
   "outputs": [
    {
     "name": "stdout",
     "output_type": "stream",
     "text": [
      "False\n"
     ]
    }
   ],
   "source": [
    "var =123\n",
    "print isinstance(var,float)"
   ]
  },
  {
   "cell_type": "code",
   "execution_count": 13,
   "metadata": {},
   "outputs": [
    {
     "data": {
      "text/plain": [
       "[0, 1, 2, 3, 4, 5, 6, 7, 8, 9]"
      ]
     },
     "execution_count": 13,
     "metadata": {},
     "output_type": "execute_result"
    }
   ],
   "source": [
    "range(10)"
   ]
  },
  {
   "cell_type": "code",
   "execution_count": 14,
   "metadata": {},
   "outputs": [
    {
     "data": {
      "text/plain": [
       "[10, 11, 12, 13, 14, 15, 16, 17, 18, 19, 20]"
      ]
     },
     "execution_count": 14,
     "metadata": {},
     "output_type": "execute_result"
    }
   ],
   "source": [
    "range(10,21)"
   ]
  },
  {
   "cell_type": "code",
   "execution_count": 15,
   "metadata": {},
   "outputs": [
    {
     "data": {
      "text/plain": [
       "[10, 13, 16, 19, 22, 25, 28, 31, 34, 37]"
      ]
     },
     "execution_count": 15,
     "metadata": {},
     "output_type": "execute_result"
    }
   ],
   "source": [
    "range(10,40,3)"
   ]
  },
  {
   "cell_type": "code",
   "execution_count": 16,
   "metadata": {},
   "outputs": [
    {
     "name": "stdout",
     "output_type": "stream",
     "text": [
      "enter list : [34,78,23]\n",
      "34\n",
      "78\n",
      "23\n",
      "no more updates \n"
     ]
    }
   ],
   "source": [
    "# for loop --->> not depending on condition\n",
    "'''\n",
    "for    var   in   (e1 , e2 , e3 , e4 , e5):\n",
    "    Task\n",
    "    ----\n",
    "    ----\n",
    "else:\n",
    "    Task\n",
    "'''\n",
    "# wap print the list elements\n",
    "list = input(\"enter list : \")\n",
    "for ele in list:\n",
    "    print ele\n",
    "else:\n",
    "    print \"no more updates \""
   ]
  },
  {
   "cell_type": "code",
   "execution_count": 17,
   "metadata": {},
   "outputs": [
    {
     "name": "stdout",
     "output_type": "stream",
     "text": [
      "enter list : [34,89,1,90,2,8]\n",
      "big :  90\n"
     ]
    }
   ],
   "source": [
    "# wap find the highest element from list\n",
    "list = input(\"enter list : \")\n",
    "big = list[0]\n",
    "for ele in list[1:] :\n",
    "    if(big < ele):\n",
    "        big = ele\n",
    "else:\n",
    "    print \"big : \",big\n",
    "    "
   ]
  },
  {
   "cell_type": "code",
   "execution_count": 18,
   "metadata": {},
   "outputs": [
    {
     "name": "stdout",
     "output_type": "stream",
     "text": [
      "enter num : 5\n",
      "fact :  120\n"
     ]
    }
   ],
   "source": [
    "# wap find the factorial of a number \n",
    "num = input(\"enter num : \")\n",
    "fact = 1\n",
    "for i in range(1,num+1):\n",
    "    fact = fact * i\n",
    "else:\n",
    "    print \"fact : \",fact"
   ]
  },
  {
   "cell_type": "code",
   "execution_count": null,
   "metadata": {},
   "outputs": [],
   "source": [
    "# wap find the no of digits in a number ---->> 4523  --->>> 4\n",
    "# wap find the sum of digits of a  number --->  4523 --->> 4+5+2+3 --->>14\n",
    "# wap find the reverse of a number----------->> 4523 --->> 3254 \n",
    "# wap find the given number is palidrom or not --> 434 -->> 434 --> palidrom\n",
    "# wap generate the  1st 10 fibonic series elements  --> 0  1   1   2   3    5   8 ------"
   ]
  }
 ],
 "metadata": {
  "kernelspec": {
   "display_name": "Python 2",
   "language": "python",
   "name": "python2"
  },
  "language_info": {
   "codemirror_mode": {
    "name": "ipython",
    "version": 2
   },
   "file_extension": ".py",
   "mimetype": "text/x-python",
   "name": "python",
   "nbconvert_exporter": "python",
   "pygments_lexer": "ipython2",
   "version": "2.7.16"
  }
 },
 "nbformat": 4,
 "nbformat_minor": 2
}
