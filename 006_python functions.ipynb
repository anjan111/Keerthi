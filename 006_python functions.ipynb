{
 "cells": [
  {
   "cell_type": "code",
   "execution_count": 3,
   "metadata": {},
   "outputs": [
    {
     "name": "stdout",
     "output_type": "stream",
     "text": [
      "enter a : 89\n",
      "enter b : 45\n",
      "sum :  134\n",
      "enter a : 45\n",
      "enter b : 45\n",
      "sum :  90\n",
      "enter a : 89\n",
      "enter b : 56\n",
      "sum :  145\n",
      "enter a : 12\n",
      "enter b : 32\n",
      "sum :  44\n"
     ]
    }
   ],
   "source": [
    "# function \n",
    "'''\n",
    "--->> Collections of statements to do any specific task\n",
    "--->> code size is reduced \n",
    "--->> speed is reduced \n",
    "--->> Easy to understand  even complex programs\n",
    "'''\n",
    "# functions are 2 types\n",
    "'''\n",
    "1. Pre defined function --->> already defined functions \n",
    "\n",
    "2. User defined function--->> programmer defined functions\n",
    "'''\n",
    "# functions needs two components\n",
    "'''\n",
    "1. function defination ---->> collection of statements with in a block with name --> function name\n",
    "2. function call --------->> to execute the function\n",
    "'''\n",
    "# function defined --->> def  \n",
    "\n",
    "'''\n",
    "def fun_name():\n",
    "    Task\n",
    "    ----\n",
    "    ----\n",
    "    ----\n",
    "\n",
    "'''\n",
    "# function call\n",
    "'''\n",
    "fun_name()\n",
    "'''\n",
    "# wap find the addition of two numbers\n",
    "\n",
    "def addition():\n",
    "    a = input(\"enter a : \")\n",
    "    b = input(\"enter b : \")\n",
    "    c = a+ b\n",
    "    print \"sum : \", c\n",
    "addition()\n",
    "addition()\n",
    "addition()\n",
    "addition()"
   ]
  },
  {
   "cell_type": "code",
   "execution_count": 4,
   "metadata": {},
   "outputs": [
    {
     "name": "stdout",
     "output_type": "stream",
     "text": [
      "enter a : 56\n",
      "enter b : 56\n",
      "sum :  112\n",
      "*****\n",
      "sum :  33\n",
      "*****\n",
      "sum :  49\n"
     ]
    }
   ],
   "source": [
    "# we can pass the data from function call to function defination( parameter/ arguments)\n",
    "def addition(x ,y ):\n",
    "    c = x+ y\n",
    "    print \"sum : \", c\n",
    "\n",
    "    \n",
    "a = input(\"enter a : \")\n",
    "b = input(\"enter b : \")\n",
    "addition(a,b)\n",
    "print \"*****\"\n",
    "addition(10,23)\n",
    "print \"*****\"\n",
    "addition(12+34,5-2)"
   ]
  },
  {
   "cell_type": "code",
   "execution_count": 5,
   "metadata": {},
   "outputs": [
    {
     "name": "stdout",
     "output_type": "stream",
     "text": [
      "enter a : 78\n",
      "enter b : 45\n",
      "sum :  123\n",
      "*****\n",
      "sum :  33\n",
      "*****\n",
      "sum :  49\n"
     ]
    }
   ],
   "source": [
    "# return the data from function def to function --->> return keyword\n",
    "def addition(x ,y ):\n",
    "    c = x+ y\n",
    "    return c\n",
    "\n",
    "    \n",
    "a = input(\"enter a : \")\n",
    "b = input(\"enter b : \")\n",
    "print \"sum : \",addition(a,b)\n",
    "print \"*****\"\n",
    "print \"sum : \",addition(10,23)\n",
    "print \"*****\"\n",
    "print \"sum : \",addition(12+34,5-2)"
   ]
  },
  {
   "cell_type": "code",
   "execution_count": 6,
   "metadata": {},
   "outputs": [
    {
     "name": "stdout",
     "output_type": "stream",
     "text": [
      "enter a : 8\n",
      "enter b : 8\n",
      "sum :  16\n",
      "*****\n",
      "sum :  33\n",
      "*****\n",
      "sum :  49\n"
     ]
    }
   ],
   "source": [
    "def addition(x ,y ):# stop the execution also\n",
    "    c = x+ y\n",
    "    return c\n",
    "    print \"i am after return\"\n",
    "\n",
    "    \n",
    "a = input(\"enter a : \")\n",
    "b = input(\"enter b : \")\n",
    "print \"sum : \",addition(a,b)\n",
    "print \"*****\"\n",
    "print \"sum : \",addition(10,23)\n",
    "print \"*****\"\n",
    "print \"sum : \",addition(12+34,5-2)"
   ]
  },
  {
   "cell_type": "code",
   "execution_count": 7,
   "metadata": {},
   "outputs": [
    {
     "name": "stdout",
     "output_type": "stream",
     "text": [
      "enter a : 78\n",
      "enter b : 78\n",
      "sum :  156\n",
      "*****\n",
      "sum : "
     ]
    },
    {
     "ename": "TypeError",
     "evalue": "addition() takes exactly 2 arguments (0 given)",
     "output_type": "error",
     "traceback": [
      "\u001b[1;31m---------------------------------------------------------------------------\u001b[0m",
      "\u001b[1;31mTypeError\u001b[0m                                 Traceback (most recent call last)",
      "\u001b[1;32m<ipython-input-7-0317a9c58238>\u001b[0m in \u001b[0;36m<module>\u001b[1;34m()\u001b[0m\n\u001b[0;32m     14\u001b[0m \u001b[1;32mprint\u001b[0m \u001b[1;34m\"sum : \"\u001b[0m\u001b[1;33m,\u001b[0m\u001b[0maddition\u001b[0m\u001b[1;33m(\u001b[0m\u001b[0ma\u001b[0m\u001b[1;33m,\u001b[0m\u001b[0mb\u001b[0m\u001b[1;33m)\u001b[0m\u001b[1;33m\u001b[0m\u001b[0m\n\u001b[0;32m     15\u001b[0m \u001b[1;32mprint\u001b[0m \u001b[1;34m\"*****\"\u001b[0m\u001b[1;33m\u001b[0m\u001b[0m\n\u001b[1;32m---> 16\u001b[1;33m \u001b[1;32mprint\u001b[0m \u001b[1;34m\"sum : \"\u001b[0m\u001b[1;33m,\u001b[0m\u001b[0maddition\u001b[0m\u001b[1;33m(\u001b[0m\u001b[1;33m)\u001b[0m\u001b[1;33m\u001b[0m\u001b[0m\n\u001b[0m\u001b[0;32m     17\u001b[0m \u001b[1;32mprint\u001b[0m \u001b[1;34m\"*****\"\u001b[0m\u001b[1;33m\u001b[0m\u001b[0m\n\u001b[0;32m     18\u001b[0m \u001b[1;32mprint\u001b[0m \u001b[1;34m\"sum : \"\u001b[0m\u001b[1;33m,\u001b[0m\u001b[0maddition\u001b[0m\u001b[1;33m(\u001b[0m\u001b[1;33m)\u001b[0m\u001b[1;33m\u001b[0m\u001b[0m\n",
      "\u001b[1;31mTypeError\u001b[0m: addition() takes exactly 2 arguments (0 given)"
     ]
    }
   ],
   "source": [
    "# default arguments \n",
    "'''\n",
    "--->> even if we are not sending any arguments from function call to function \n",
    "defination w can't get any kind of error\n",
    "\n",
    "'''\n",
    "def addition(x ,y ):\n",
    "    c = x+ y\n",
    "    return c\n",
    "\n",
    "    \n",
    "a = input(\"enter a : \")\n",
    "b = input(\"enter b : \")\n",
    "print \"sum : \",addition(a,b)\n",
    "print \"*****\"\n",
    "print \"sum : \",addition()\n",
    "print \"*****\"\n",
    "print \"sum : \",addition()"
   ]
  },
  {
   "cell_type": "code",
   "execution_count": 8,
   "metadata": {},
   "outputs": [
    {
     "name": "stdout",
     "output_type": "stream",
     "text": [
      "enter a : 45\n",
      "enter b : 45\n",
      " sum :  90\n",
      "*****\n",
      "sum :  579\n",
      "*****\n",
      "sum :  246\n"
     ]
    }
   ],
   "source": [
    "# default arguments \n",
    "'''\n",
    "--->> even if we are not sending any arguments from function call to function \n",
    "defination w can't get any kind of error\n",
    "\n",
    "'''\n",
    "def addition(x = 456 ,y =123 ):\n",
    "    c = x+ y\n",
    "    return c\n",
    "\n",
    "    \n",
    "a = input(\"enter a : \")\n",
    "b = input(\"enter b : \")\n",
    "print \"sum : \",addition(a,b)\n",
    "print \"*****\"\n",
    "print \"sum : \",addition()\n",
    "print \"*****\"\n",
    "print \"sum : \",addition(123)"
   ]
  },
  {
   "cell_type": "code",
   "execution_count": 9,
   "metadata": {},
   "outputs": [
    {
     "name": "stdout",
     "output_type": "stream",
     "text": [
      "31\n"
     ]
    }
   ],
   "source": [
    "# packing \n",
    "def function(a0,a1,a2,a3,a4,a5):\n",
    "    print a0+a1+a2+a3+a4+a5\n",
    "function(1,8,3,7,3,9)"
   ]
  },
  {
   "cell_type": "code",
   "execution_count": 10,
   "metadata": {},
   "outputs": [
    {
     "ename": "TypeError",
     "evalue": "function() takes exactly 6 arguments (7 given)",
     "output_type": "error",
     "traceback": [
      "\u001b[1;31m---------------------------------------------------------------------------\u001b[0m",
      "\u001b[1;31mTypeError\u001b[0m                                 Traceback (most recent call last)",
      "\u001b[1;32m<ipython-input-10-eeb5b5164e44>\u001b[0m in \u001b[0;36m<module>\u001b[1;34m()\u001b[0m\n\u001b[0;32m      1\u001b[0m \u001b[1;32mdef\u001b[0m \u001b[0mfunction\u001b[0m\u001b[1;33m(\u001b[0m\u001b[0ma0\u001b[0m\u001b[1;33m,\u001b[0m\u001b[0ma1\u001b[0m\u001b[1;33m,\u001b[0m\u001b[0ma2\u001b[0m\u001b[1;33m,\u001b[0m\u001b[0ma3\u001b[0m\u001b[1;33m,\u001b[0m\u001b[0ma4\u001b[0m\u001b[1;33m,\u001b[0m\u001b[0ma5\u001b[0m\u001b[1;33m)\u001b[0m\u001b[1;33m:\u001b[0m\u001b[1;33m\u001b[0m\u001b[0m\n\u001b[0;32m      2\u001b[0m     \u001b[1;32mprint\u001b[0m \u001b[0ma0\u001b[0m\u001b[1;33m+\u001b[0m\u001b[0ma1\u001b[0m\u001b[1;33m+\u001b[0m\u001b[0ma2\u001b[0m\u001b[1;33m+\u001b[0m\u001b[0ma3\u001b[0m\u001b[1;33m+\u001b[0m\u001b[0ma4\u001b[0m\u001b[1;33m+\u001b[0m\u001b[0ma5\u001b[0m\u001b[1;33m\u001b[0m\u001b[0m\n\u001b[1;32m----> 3\u001b[1;33m \u001b[0mfunction\u001b[0m\u001b[1;33m(\u001b[0m\u001b[1;36m1\u001b[0m\u001b[1;33m,\u001b[0m\u001b[1;36m8\u001b[0m\u001b[1;33m,\u001b[0m\u001b[1;36m3\u001b[0m\u001b[1;33m,\u001b[0m\u001b[1;36m7\u001b[0m\u001b[1;33m,\u001b[0m\u001b[1;36m3\u001b[0m\u001b[1;33m,\u001b[0m\u001b[1;36m9\u001b[0m\u001b[1;33m,\u001b[0m\u001b[1;36m10\u001b[0m\u001b[1;33m)\u001b[0m\u001b[1;33m\u001b[0m\u001b[0m\n\u001b[0m",
      "\u001b[1;31mTypeError\u001b[0m: function() takes exactly 6 arguments (7 given)"
     ]
    }
   ],
   "source": [
    "def function(a0,a1,a2,a3,a4,a5):\n",
    "    print a0+a1+a2+a3+a4+a5\n",
    "function(1,8,3,7,3,9,10)"
   ]
  },
  {
   "cell_type": "code",
   "execution_count": 13,
   "metadata": {},
   "outputs": [
    {
     "name": "stdout",
     "output_type": "stream",
     "text": [
      "53\n"
     ]
    }
   ],
   "source": [
    "# this is packing \n",
    "def function(*var):\n",
    "    print sum(var)\n",
    "function(1,8,3,7,3,9,10,12)"
   ]
  },
  {
   "cell_type": "code",
   "execution_count": 14,
   "metadata": {},
   "outputs": [
    {
     "name": "stdout",
     "output_type": "stream",
     "text": [
      "12\n",
      "45\n",
      "34\n",
      "9\n"
     ]
    }
   ],
   "source": [
    "# unpacking \n",
    "def fun(a0,a1,a2,a3):\n",
    "    print a0\n",
    "    print a1\n",
    "    print a2\n",
    "    print a3\n",
    "\n",
    "\n",
    "var = [12,45,34,9]\n",
    "fun(*var)"
   ]
  },
  {
   "cell_type": "code",
   "execution_count": 19,
   "metadata": {},
   "outputs": [
    {
     "name": "stdout",
     "output_type": "stream",
     "text": [
      "enter number : 10\n",
      "10  is prime :  False\n",
      "sum of factors:  18\n"
     ]
    }
   ],
   "source": [
    "# define all user defined function\n",
    "# define main user defined function\n",
    "# main function calling \n",
    "# wap for isprime , no of factors , sum of factors\n",
    "def no_of_factor(num):\n",
    "    fact = 0\n",
    "    for i in range(1,num+1):\n",
    "        if(num % i ==0):\n",
    "            fact = fact +1\n",
    "    return fact\n",
    "def sum_of_factor(num):\n",
    "    sum = 0\n",
    "    for i in range(1,num+1):\n",
    "        if(num % i ==0):\n",
    "            sum = sum +i\n",
    "    return sum\n",
    "def isprime(num):\n",
    "    no_fact = no_of_factor(num)\n",
    "    if(no_fact == 2):\n",
    "        return True\n",
    "    else:\n",
    "        return False\n",
    "def main():\n",
    "    n = input(\"enter number : \")\n",
    "    print n,\" is prime : \",isprime(n)\n",
    "    print \"sum of factors: \",sum_of_factor(n)\n",
    "main()"
   ]
  },
  {
   "cell_type": "code",
   "execution_count": null,
   "metadata": {},
   "outputs": [],
   "source": []
  }
 ],
 "metadata": {
  "kernelspec": {
   "display_name": "Python 2",
   "language": "python",
   "name": "python2"
  },
  "language_info": {
   "codemirror_mode": {
    "name": "ipython",
    "version": 2
   },
   "file_extension": ".py",
   "mimetype": "text/x-python",
   "name": "python",
   "nbconvert_exporter": "python",
   "pygments_lexer": "ipython2",
   "version": "2.7.16"
  }
 },
 "nbformat": 4,
 "nbformat_minor": 2
}
